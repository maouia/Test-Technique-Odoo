{
 "cells": [
  {
   "cell_type": "code",
   "execution_count": 1,
   "id": "initial_id",
   "metadata": {
    "collapsed": true,
    "ExecuteTime": {
     "end_time": "2024-09-08T22:04:32.513265Z",
     "start_time": "2024-09-08T22:04:32.305133Z"
    }
   },
   "outputs": [],
   "source": [
    "import requests\n",
    "from bs4 import BeautifulSoup"
   ]
  },
  {
   "cell_type": "code",
   "outputs": [],
   "source": [
    "response = requests.get('https://techcrunch.com/')"
   ],
   "metadata": {
    "collapsed": false,
    "ExecuteTime": {
     "end_time": "2024-09-08T22:04:33.782285Z",
     "start_time": "2024-09-08T22:04:32.515264Z"
    }
   },
   "id": "2347f0770f5330af",
   "execution_count": 2
  },
  {
   "cell_type": "code",
   "outputs": [
    {
     "data": {
      "text/plain": "200"
     },
     "execution_count": 3,
     "metadata": {},
     "output_type": "execute_result"
    }
   ],
   "source": [
    "response.status_code"
   ],
   "metadata": {
    "collapsed": false,
    "ExecuteTime": {
     "end_time": "2024-09-08T22:04:33.790057Z",
     "start_time": "2024-09-08T22:04:33.783300Z"
    }
   },
   "id": "833c375e4a980a4b",
   "execution_count": 3
  },
  {
   "cell_type": "code",
   "outputs": [],
   "source": [
    "soup = BeautifulSoup(response.content, 'html.parser')"
   ],
   "metadata": {
    "collapsed": false,
    "ExecuteTime": {
     "end_time": "2024-09-08T22:04:33.842207Z",
     "start_time": "2024-09-08T22:04:33.792066Z"
    }
   },
   "id": "664e111bcd0099a1",
   "execution_count": 4
  },
  {
   "cell_type": "code",
   "outputs": [],
   "source": [
    "divs = soup.find_all('div', class_='wp-block-tc23-post-picker')"
   ],
   "metadata": {
    "collapsed": false,
    "ExecuteTime": {
     "end_time": "2024-09-08T22:04:33.850194Z",
     "start_time": "2024-09-08T22:04:33.843207Z"
    }
   },
   "id": "deaf2e094217752f",
   "execution_count": 5
  },
  {
   "cell_type": "code",
   "outputs": [
    {
     "data": {
      "text/plain": "25"
     },
     "execution_count": 6,
     "metadata": {},
     "output_type": "execute_result"
    }
   ],
   "source": [
    "len(divs)"
   ],
   "metadata": {
    "collapsed": false,
    "ExecuteTime": {
     "end_time": "2024-09-08T22:04:33.908214Z",
     "start_time": "2024-09-08T22:04:33.851194Z"
    }
   },
   "id": "bfdc76fa071a446",
   "execution_count": 6
  },
  {
   "cell_type": "code",
   "outputs": [],
   "source": [
    "name = divs[5].find('h2').text\n",
    "description = divs[5].find('p',class_='wp-block-post-excerpt__excerpt').text\n",
    "publication_date = divs[5].find('time').get('datetime')\n",
    "publisher=divs[5].find('div',class_='wp-block-tc23-author-card-name').find('a').text\n",
    "link=divs[7].find('h2').find('a').get('href')"
   ],
   "metadata": {
    "collapsed": false,
    "ExecuteTime": {
     "end_time": "2024-09-08T22:04:33.919469Z",
     "start_time": "2024-09-08T22:04:33.909215Z"
    }
   },
   "id": "f2587303e84698bb",
   "execution_count": 7
  },
  {
   "cell_type": "code",
   "outputs": [
    {
     "name": "stdout",
     "output_type": "stream",
     "text": [
      "Name: The Try Guys say their subscription strategy is working,\n",
      "Description: After a rough couple years, YouTube creators The Try Guys said they’re on-track to reach profitability, with subscriptions to their three-month-old, ad-free service 2nd Try now accounting for 20% of… ,\n",
      "Publisher: Anthony Ha,\n",
      "Link: https://techcrunch.com/2024/09/08/elon-musk-says-tesla-has-no-need-to-license-xai-models/,\n",
      "date: 2024-09-08T13:00:00-07:00\n"
     ]
    }
   ],
   "source": [
    "print(f'Name: {name},\\nDescription: {description},\\nPublisher: {publisher},\\nLink: {link},\\ndate: {publication_date}')"
   ],
   "metadata": {
    "collapsed": false,
    "ExecuteTime": {
     "end_time": "2024-09-08T22:04:33.931128Z",
     "start_time": "2024-09-08T22:04:33.920469Z"
    }
   },
   "id": "5e51356efd8020b",
   "execution_count": 8
  },
  {
   "cell_type": "code",
   "outputs": [],
   "source": [],
   "metadata": {
    "collapsed": false
   },
   "id": "8374247050614af6"
  }
 ],
 "metadata": {
  "kernelspec": {
   "display_name": "Python 3",
   "language": "python",
   "name": "python3"
  },
  "language_info": {
   "codemirror_mode": {
    "name": "ipython",
    "version": 2
   },
   "file_extension": ".py",
   "mimetype": "text/x-python",
   "name": "python",
   "nbconvert_exporter": "python",
   "pygments_lexer": "ipython2",
   "version": "2.7.6"
  }
 },
 "nbformat": 4,
 "nbformat_minor": 5
}
